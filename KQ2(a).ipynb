{
 "cells": [
  {
   "cell_type": "code",
   "execution_count": 1,
   "id": "f99e40a8",
   "metadata": {},
   "outputs": [],
   "source": [
    "import pickle\n",
    "from nltk.corpus import stopwords\n",
    "import re \n",
    "import math\n",
    "from nltk import word_tokenize\n",
    "from nltk.stem import PorterStemmer\n",
    "ps=PorterStemmer()\n",
    "import numpy as np"
   ]
  },
  {
   "cell_type": "code",
   "execution_count": 2,
   "id": "eb326755",
   "metadata": {},
   "outputs": [],
   "source": [
    "#importing the objects as pickle files\n",
    "file1=open('posting_list.pkl',\"rb\")\n",
    "posting_lists=pickle.load(file1)\n",
    "\n",
    "file2=open('file_idx.pkl','rb')\n",
    "files=pickle.load(file2)\n"
   ]
  },
  {
   "cell_type": "code",
   "execution_count": 3,
   "id": "be934bda",
   "metadata": {},
   "outputs": [],
   "source": [
    "#set of stopwords\n",
    "stpwrds=set(stopwords.words('english'))"
   ]
  },
  {
   "cell_type": "code",
   "execution_count": 4,
   "id": "0d30ee1d",
   "metadata": {},
   "outputs": [
    {
     "name": "stdout",
     "output_type": "stream",
     "text": [
      "Enter the query : rahul's car\n"
     ]
    },
    {
     "data": {
      "text/plain": [
       "['rahul', 'car']"
      ]
     },
     "execution_count": 4,
     "metadata": {},
     "output_type": "execute_result"
    }
   ],
   "source": [
    "#input \n",
    "query=input('Enter the query : ')\n",
    "\n",
    "regex = re.compile('[^a-zA-Z\\s]')\n",
    "words = re.sub(regex,'',query)\n",
    "\n",
    "#tokenizing and stemming the query\n",
    "tokens = [word.lower() for word in word_tokenize(words)]\n",
    "stmd_tkns = [ps.stem(token) for token in tokens if token not in stpwrds]\n",
    "stmd_tkns"
   ]
  },
  {
   "cell_type": "code",
   "execution_count": 5,
   "id": "d7af0976",
   "metadata": {},
   "outputs": [
    {
     "data": {
      "text/plain": [
       "8635"
      ]
     },
     "execution_count": 5,
     "metadata": {},
     "output_type": "execute_result"
    }
   ],
   "source": [
    "len(files)"
   ]
  },
  {
   "cell_type": "code",
   "execution_count": 6,
   "id": "a31befdd",
   "metadata": {},
   "outputs": [],
   "source": [
    "#finding which files contain all the query tokens \n",
    "dict_files = {}\n",
    "for i in range(len(files)):\n",
    "    dict_files[i] = 0\n",
    "\n",
    "for w in stmd_tkns:\n",
    "    if w in posting_lists:\n",
    "        for i in posting_lists[w].keys():\n",
    "            dict_files[i] += 1"
   ]
  },
  {
   "cell_type": "code",
   "execution_count": 7,
   "id": "2870f4b7",
   "metadata": {},
   "outputs": [],
   "source": [
    "#Extracting the file names\n",
    "results = []\n",
    "for i in dict_files.keys():\n",
    "    if dict_files[i]==len(stmd_tkns):\n",
    "        results.append(files[i])\n"
   ]
  },
  {
   "cell_type": "code",
   "execution_count": 8,
   "id": "4d61f507",
   "metadata": {},
   "outputs": [
    {
     "data": {
      "text/plain": [
       "['C00296.txt', 'S00071.txt', 'S00779.txt', 'T00101.txt']"
      ]
     },
     "execution_count": 8,
     "metadata": {},
     "output_type": "execute_result"
    }
   ],
   "source": [
    "results = sorted(results)\n",
    "results"
   ]
  },
  {
   "cell_type": "code",
   "execution_count": 9,
   "id": "746c5810",
   "metadata": {},
   "outputs": [
    {
     "data": {
      "text/plain": [
       "4"
      ]
     },
     "execution_count": 9,
     "metadata": {},
     "output_type": "execute_result"
    }
   ],
   "source": [
    "len(results)"
   ]
  }
 ],
 "metadata": {
  "kernelspec": {
   "display_name": "Python 3 (ipykernel)",
   "language": "python",
   "name": "python3"
  },
  "language_info": {
   "codemirror_mode": {
    "name": "ipython",
    "version": 3
   },
   "file_extension": ".py",
   "mimetype": "text/x-python",
   "name": "python",
   "nbconvert_exporter": "python",
   "pygments_lexer": "ipython3",
   "version": "3.8.13"
  }
 },
 "nbformat": 4,
 "nbformat_minor": 5
}
