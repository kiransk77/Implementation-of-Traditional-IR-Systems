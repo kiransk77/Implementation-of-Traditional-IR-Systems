{
 "cells": [
  {
   "cell_type": "code",
   "execution_count": 1,
   "id": "6867b8fb",
   "metadata": {},
   "outputs": [],
   "source": [
    "import pickle\n",
    "from nltk.corpus import stopwords\n",
    "import re \n",
    "import math\n",
    "from nltk import word_tokenize\n",
    "from nltk.stem import PorterStemmer\n",
    "ps=PorterStemmer()\n",
    "import numpy as np"
   ]
  },
  {
   "cell_type": "code",
   "execution_count": 2,
   "id": "b6184ca9",
   "metadata": {},
   "outputs": [],
   "source": [
    "#loading pickle files\n",
    "file1 = open('df.pkl','rb')\n",
    "df_dict = pickle.load(file1)\n",
    "\n",
    "file2 = open('file_idx.pkl','rb')\n",
    "file_lst = pickle.load(file2)\n",
    "\n",
    "file3 = open('doc_norm.pkl','rb')\n",
    "l2_norm_dict = pickle.load(file3)\n",
    "\n",
    "file4 = open('doc_words.pkl','rb')\n",
    "tot_tkns = pickle.load(file4)\n",
    "\n",
    "file5 = open('doc_len.pkl','rb')\n",
    "doc_len = pickle.load(file5)\n",
    "\n",
    "file6 = open('posting_list.pkl','rb')\n",
    "tf_dict = pickle.load(file6)\n"
   ]
  },
  {
   "cell_type": "code",
   "execution_count": 3,
   "id": "1715a4e6",
   "metadata": {},
   "outputs": [],
   "source": [
    "#set of stopwords\n",
    "stpwrds = set(stopwords.words('english'))"
   ]
  },
  {
   "cell_type": "code",
   "execution_count": 4,
   "id": "f6f1e655",
   "metadata": {},
   "outputs": [
    {
     "name": "stdout",
     "output_type": "stream",
     "text": [
      "Enter the query : javascript\n"
     ]
    },
    {
     "data": {
      "text/plain": [
       "['javascript']"
      ]
     },
     "execution_count": 4,
     "metadata": {},
     "output_type": "execute_result"
    }
   ],
   "source": [
    "#input\n",
    "query=input(\"Enter the query : \")\n",
    "regex = re.compile('[^a-zA-Z\\s]')\n",
    "words = re.sub(regex,'',query)\n",
    "\n",
    "#tokenizing and stemming the query\n",
    "tokens = [word.lower() for word in word_tokenize(words)]\n",
    "stmd_tkns = [ps.stem(token) for token in tokens if token not in stpwrds]\n",
    "stmd_tkns"
   ]
  },
  {
   "cell_type": "code",
   "execution_count": 5,
   "id": "f7524bf7",
   "metadata": {},
   "outputs": [],
   "source": [
    "tf_idf_qry = []\n",
    "l2_norm = 0\n",
    "\n",
    "for i in stmd_tkns:\n",
    "    tf_idf = 0\n",
    "    if i in tf_dict:\n",
    "        tf_idf = stmd_tkns.count(i) * math.log(len(file_lst)/df_dict[i])\n",
    "    tf_idf_qry.append(tf_idf)\n",
    "    l2_norm += tf_idf ** 2\n",
    "l2_norm = math.sqrt(l2_norm)\n",
    "\n",
    "tf_idf_qry = np.array(tf_idf_qry)/l2_norm\n",
    "    "
   ]
  },
  {
   "cell_type": "code",
   "execution_count": 6,
   "id": "a50aed82",
   "metadata": {},
   "outputs": [
    {
     "data": {
      "text/plain": [
       "array([1.])"
      ]
     },
     "execution_count": 6,
     "metadata": {},
     "output_type": "execute_result"
    }
   ],
   "source": [
    "tf_idf_qry"
   ]
  },
  {
   "cell_type": "code",
   "execution_count": 7,
   "id": "4d08335a",
   "metadata": {},
   "outputs": [],
   "source": [
    "#calculating the score for each document for a given query\n",
    "score={}\n",
    "for i in range(len(file_lst)):\n",
    "    tf_idf_doc = []\n",
    "    for t in stmd_tkns:\n",
    "        c_tf = 0\n",
    "        if t in tf_dict and i in tf_dict[t]:\n",
    "            c_tf = (tf_dict[t][i]) * math.log(len(file_lst)/df_dict[t])\n",
    "        tf_idf_doc.append(c_tf)\n",
    "    tf_idf_doc = np.array(tf_idf_doc)/l2_norm_dict[i]\n",
    "    score[i] = np.dot(tf_idf_qry,tf_idf_doc)"
   ]
  },
  {
   "cell_type": "code",
   "execution_count": 8,
   "id": "47400299",
   "metadata": {},
   "outputs": [],
   "source": [
    "#sort similarity score in descending order \n",
    "score1=sorted(score.items(),key=lambda x:x[1],reverse=True) "
   ]
  },
  {
   "cell_type": "code",
   "execution_count": 9,
   "id": "9993c44c",
   "metadata": {},
   "outputs": [
    {
     "name": "stdout",
     "output_type": "stream",
     "text": [
      "C00001.txt 0.7202624698475235\n",
      "C00580.txt 0.4665687494351361\n",
      "C00014.txt 0.24137609156149947\n",
      "C00087.txt 0.2247237595689026\n",
      "C00660.txt 0.15870216117548389\n",
      "C00561.txt 0.14000562413956574\n",
      "C00022.txt 0.13776739681423733\n",
      "C00585.txt 0.10882667855631256\n",
      "C00971.txt 0.08847696077232294\n",
      "C00753.txt 0.07746500282683663\n"
     ]
    }
   ],
   "source": [
    "#printing the top 10 documents\n",
    "count = 10\n",
    "for i in score1:\n",
    "    if count == 0:\n",
    "        break\n",
    "    print(file_lst[i[0]],i[1])\n",
    "    count-=1"
   ]
  },
  {
   "cell_type": "code",
   "execution_count": null,
   "id": "f542a03b",
   "metadata": {},
   "outputs": [],
   "source": []
  }
 ],
 "metadata": {
  "kernelspec": {
   "display_name": "Python 3",
   "language": "python",
   "name": "python3"
  },
  "language_info": {
   "codemirror_mode": {
    "name": "ipython",
    "version": 3
   },
   "file_extension": ".py",
   "mimetype": "text/x-python",
   "name": "python",
   "nbconvert_exporter": "python",
   "pygments_lexer": "ipython3",
   "version": "3.8.8"
  }
 },
 "nbformat": 4,
 "nbformat_minor": 5
}
