{
 "cells": [
  {
   "cell_type": "code",
   "execution_count": 1,
   "id": "b42ef3ac",
   "metadata": {},
   "outputs": [],
   "source": [
    "import pickle\n",
    "from nltk.corpus import stopwords\n",
    "import re\n",
    "import nltk\n",
    "from nltk.stem import PorterStemmer\n",
    "ps=PorterStemmer()\n",
    "import math"
   ]
  },
  {
   "cell_type": "code",
   "execution_count": 2,
   "id": "f5ce1349",
   "metadata": {},
   "outputs": [],
   "source": [
    "#loading pickle files\n",
    "with open('posting_list.pkl','rb') as file1:\n",
    "    term_f=pickle.load(file1)\n",
    "    \n",
    "with open('df.pkl','rb') as file2:\n",
    "    idf_dict=pickle.load(file2)\n",
    "    \n",
    "with open('file_idx.pkl','rb') as file3:\n",
    "    file_lst=pickle.load(file3)\n",
    "    \n",
    "with open('doc_len.pkl','rb') as file4:\n",
    "    doc_len=pickle.load(file4)"
   ]
  },
  {
   "cell_type": "code",
   "execution_count": 3,
   "id": "52634553",
   "metadata": {},
   "outputs": [],
   "source": [
    "#set of stopwords\n",
    "stpwrds = set(stopwords.words('english'))"
   ]
  },
  {
   "cell_type": "code",
   "execution_count": 4,
   "id": "d6bec069",
   "metadata": {},
   "outputs": [],
   "source": [
    "#preprocessing the query\n",
    "def query_preprocess(query1):\n",
    "    tempq = re.compile('[^a-zA-Z\\s]')  \n",
    "    query1 = re.sub(tempq,'',query1)   #except alphabets, remove all other letters\n",
    "    tokens=nltk.word_tokenize(query1)  #tokenization\n",
    "    tokens_lwr=[]\n",
    "    for i in tokens:\n",
    "        tokens_lwr.append(i.lower())\n",
    "    tkns=[]\n",
    "    \n",
    "    for p in tokens_lwr:               #token stemming\n",
    "        tkns.append(ps.stem(p))\n",
    "    tkns1=[]\n",
    "    \n",
    "    for p in tkns:                     #remove stopwords\n",
    "        if p not in stpwrds:\n",
    "            tkns1.append(p)\n",
    "    tkns_1=[]\n",
    "    \n",
    "    for p in tkns1:                    #remove tokens not present in any of the documents\n",
    "        if p in idf_dict:\n",
    "            tkns_1.append(p)\n",
    "    return tkns_1"
   ]
  },
  {
   "cell_type": "code",
   "execution_count": 5,
   "id": "3816d550",
   "metadata": {},
   "outputs": [
    {
     "data": {
      "text/plain": [
       "2878.7974522292993"
      ]
     },
     "execution_count": 5,
     "metadata": {},
     "output_type": "execute_result"
    }
   ],
   "source": [
    "count=0\n",
    "N=len(file_lst)\n",
    "for i in doc_len:\n",
    "    count=count+doc_len[i]\n",
    "avg_len=count/N\n",
    "avg_len"
   ]
  },
  {
   "cell_type": "code",
   "execution_count": 6,
   "id": "0aec507c",
   "metadata": {},
   "outputs": [],
   "source": [
    "def idf(p): #function for finding similarity score\n",
    "    doc_f=0\n",
    "    if p in idf_dict:\n",
    "        doc_f1=(len(file_lst)/idf_dict[p])\n",
    "    idf_val2=math.log((N-doc_f1+0.5)/(doc_f1+0.5))\n",
    "    return idf_val2"
   ]
  },
  {
   "cell_type": "code",
   "execution_count": 7,
   "id": "58f6bc10",
   "metadata": {},
   "outputs": [
    {
     "name": "stdout",
     "output_type": "stream",
     "text": [
      "Enter the queryjavascript\n"
     ]
    }
   ],
   "source": [
    "score={}\n",
    "query=input('Enter the query')\n",
    "query_pp=query_preprocess(query)\n",
    "k=1.2\n",
    "b=0.75\n",
    "for i in range(len(file_lst)):\n",
    "        score[i]=0\n",
    "        for j in query_pp:\n",
    "            tm_f=0\n",
    "            if j in term_f:\n",
    "                if i in term_f[j]:\n",
    "                    tm_f=term_f[j][i]\n",
    "            idf_val=idf(j)\n",
    "            scr_i=idf_val*(k+1)*tm_f/(tm_f+k*(1-b+b*(doc_len[i]/avg_len)))  #similarity score for document and query\n",
    "            score[i]+=scr_i\n",
    "            \n",
    "#sorting similarity score in descending order\n",
    "score1=sorted(score.items(),key=lambda x: x[1],reverse=True)"
   ]
  },
  {
   "cell_type": "code",
   "execution_count": 8,
   "id": "50ef7990",
   "metadata": {},
   "outputs": [
    {
     "name": "stdout",
     "output_type": "stream",
     "text": [
      "C00001.txt 11.415617202161764\n",
      "C00580.txt 11.314802496236219\n",
      "C00087.txt 11.243643819125634\n",
      "C00014.txt 11.122052289596855\n",
      "C00660.txt 11.106670721933856\n",
      "C00022.txt 11.038758967269723\n",
      "C00971.txt 10.926473457781354\n",
      "C00868.txt 10.422478940912454\n",
      "C00581.txt 10.372166798638814\n",
      "C00753.txt 10.367192547359197\n"
     ]
    }
   ],
   "source": [
    "#print the top 10 documents\n",
    "count = 10\n",
    "for i in score1:\n",
    "    if count == 0:\n",
    "        break\n",
    "    print(file_lst[i[0]],i[1])\n",
    "    count-=1"
   ]
  }
 ],
 "metadata": {
  "kernelspec": {
   "display_name": "Python 3",
   "language": "python",
   "name": "python3"
  },
  "language_info": {
   "codemirror_mode": {
    "name": "ipython",
    "version": 3
   },
   "file_extension": ".py",
   "mimetype": "text/x-python",
   "name": "python",
   "nbconvert_exporter": "python",
   "pygments_lexer": "ipython3",
   "version": "3.8.8"
  }
 },
 "nbformat": 4,
 "nbformat_minor": 5
}
